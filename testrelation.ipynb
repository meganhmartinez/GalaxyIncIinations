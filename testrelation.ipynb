{
 "cells": [
  {
   "cell_type": "code",
   "execution_count": null,
   "id": "2941057a",
   "metadata": {},
   "outputs": [
    {
     "ename": "AttributeError",
     "evalue": "'LaguerreAmplitudes' object has no attribute 'laguerre_amplitudes'",
     "output_type": "error",
     "traceback": [
      "\u001b[0;31m---------------------------------------------------------------------------\u001b[0m",
      "\u001b[0;31mAttributeError\u001b[0m                            Traceback (most recent call last)",
      "Cell \u001b[0;32mIn[2], line 23\u001b[0m\n\u001b[1;32m     21\u001b[0m D\u001b[38;5;241m.\u001b[39mrotate_disc(inc, \u001b[38;5;241m0\u001b[39m, \u001b[38;5;241m0\u001b[39m)\n\u001b[1;32m     22\u001b[0m D\u001b[38;5;241m.\u001b[39mgenerate_image(rmax\u001b[38;5;241m=\u001b[39mrmax, nbins\u001b[38;5;241m=\u001b[39mnbins, noiselevel\u001b[38;5;241m=\u001b[39m\u001b[38;5;241m0.\u001b[39m)\n\u001b[0;32m---> 23\u001b[0m E \u001b[38;5;241m=\u001b[39m \u001b[43mD\u001b[49m\u001b[38;5;241;43m.\u001b[39;49m\u001b[43mmake_expansion\u001b[49m\u001b[43m(\u001b[49m\u001b[43mmmax\u001b[49m\u001b[43m,\u001b[49m\u001b[43m \u001b[49m\u001b[43mnmax\u001b[49m\u001b[43m,\u001b[49m\u001b[43m \u001b[49m\u001b[43ma\u001b[49m\u001b[43m)\u001b[49m\n\u001b[1;32m     25\u001b[0m coef_mag \u001b[38;5;241m=\u001b[39m np\u001b[38;5;241m.\u001b[39msqrt(E\u001b[38;5;241m.\u001b[39mcoscoefs\u001b[38;5;241m*\u001b[39m\u001b[38;5;241m*\u001b[39m\u001b[38;5;241m2\u001b[39m \u001b[38;5;241m+\u001b[39m E\u001b[38;5;241m.\u001b[39msincoefs\u001b[38;5;241m*\u001b[39m\u001b[38;5;241m*\u001b[39m\u001b[38;5;241m2\u001b[39m)\n\u001b[1;32m     26\u001b[0m m_power \u001b[38;5;241m=\u001b[39m np\u001b[38;5;241m.\u001b[39msum(coef_mag, axis\u001b[38;5;241m=\u001b[39m\u001b[38;5;241m1\u001b[39m)\n",
      "File \u001b[0;32m~/Desktop/edi/DiscModel.py:215\u001b[0m, in \u001b[0;36mDiscGalaxy.make_expansion\u001b[0;34m(self, mmax, nmax, rscl, xmax, noisy)\u001b[0m\n\u001b[1;32m    211\u001b[0m \u001b[38;5;66;03m#rval[gvals]         = np.nan\u001b[39;00m\n\u001b[1;32m    212\u001b[0m \u001b[38;5;66;03m#phi[gvals]          = np.nan\u001b[39;00m\n\u001b[1;32m    213\u001b[0m snapshotflat[gvals] \u001b[38;5;241m=\u001b[39m np\u001b[38;5;241m.\u001b[39mnan\n\u001b[0;32m--> 215\u001b[0m laguerre \u001b[38;5;241m=\u001b[39m \u001b[43mLaguerreAmplitudes\u001b[49m\u001b[43m(\u001b[49m\u001b[43mrscl\u001b[49m\u001b[43m,\u001b[49m\u001b[43mmmax\u001b[49m\u001b[43m,\u001b[49m\u001b[43mnmax\u001b[49m\u001b[43m,\u001b[49m\u001b[43mrval\u001b[49m\u001b[43m,\u001b[49m\u001b[43mphi\u001b[49m\u001b[43m,\u001b[49m\u001b[43msnapshotflat\u001b[49m\u001b[43m)\u001b[49m\n\u001b[1;32m    217\u001b[0m \u001b[38;5;28mself\u001b[39m\u001b[38;5;241m.\u001b[39mr \u001b[38;5;241m=\u001b[39m rr\n\u001b[1;32m    218\u001b[0m \u001b[38;5;28mself\u001b[39m\u001b[38;5;241m.\u001b[39mp \u001b[38;5;241m=\u001b[39m pp\n",
      "File \u001b[0;32m~/Desktop/edi/LaguerreAmp.py:20\u001b[0m, in \u001b[0;36mLaguerreAmplitudes.__init__\u001b[0;34m(self, rscl, mmax, nmax, R, phi, mass, velocity)\u001b[0m\n\u001b[1;32m     17\u001b[0m \u001b[38;5;28mself\u001b[39m\u001b[38;5;241m.\u001b[39mvelocity \u001b[38;5;241m=\u001b[39m velocity\n\u001b[1;32m     19\u001b[0m \u001b[38;5;66;03m# Run the amplitude calculation\u001b[39;00m\n\u001b[0;32m---> 20\u001b[0m \u001b[38;5;28;43mself\u001b[39;49m\u001b[38;5;241;43m.\u001b[39;49m\u001b[43mlaguerre_amplitudes\u001b[49m()\n",
      "\u001b[0;31mAttributeError\u001b[0m: 'LaguerreAmplitudes' object has no attribute 'laguerre_amplitudes'"
     ]
    }
   ],
   "source": [
    "import matplotlib.pyplot as plt\n",
    "import numpy as np\n",
    "from DiscModel import DiscGalaxy\n",
    "\n",
    "\n",
    "\n",
    "# Parameters\n",
    "N = 1_000_000\n",
    "a = 1.0\n",
    "rmax = 8.\n",
    "nbins = 512\n",
    "mmax = 10\n",
    "nmax = 10\n",
    "inclinations = [0, 15, 30, 45, 60, 75, 85]\n",
    "\n",
    "# Store results\n",
    "results = []\n",
    "\n",
    "for inc in inclinations:\n",
    "    D = DiscGalaxy(N=N, a=a)\n",
    "    D.rotate_disc(inc, 0, 0)\n",
    "    D.generate_image(rmax=rmax, nbins=nbins, noiselevel=0.)\n",
    "    E = D.make_expansion(mmax, nmax, a)\n",
    "    \n",
    "    coef_mag = np.sqrt(E.coscoefs**2 + E.sincoefs**2)\n",
    "    m_power = np.sum(coef_mag, axis=1)\n",
    "    total_power = np.sum(m_power)\n",
    "    frac_power = m_power / total_power\n",
    "    \n",
    "    results.append({\n",
    "        \"inclination\": inc,\n",
    "        \"m_power\": m_power,\n",
    "        \"frac_power\": frac_power\n",
    "    })\n",
    "\n",
    "# Plot fractional power vs inclination for each m\n",
    "for m in range(mmax+1):\n",
    "    plt.plot([r[\"inclination\"] for r in results],\n",
    "             [r[\"frac_power\"][m] for r in results],\n",
    "             marker='o', label=f\"m={m}\")\n",
    "\n",
    "plt.xlabel(\"Inclination angle (deg)\")\n",
    "plt.ylabel(\"Fractional power in m\")\n",
    "plt.legend()\n",
    "plt.title(\"How Laguerre m modes depend on inclination\")\n",
    "plt.show()\n"
   ]
  }
 ],
 "metadata": {
  "kernelspec": {
   "display_name": "Python 3",
   "language": "python",
   "name": "python3"
  },
  "language_info": {
   "codemirror_mode": {
    "name": "ipython",
    "version": 3
   },
   "file_extension": ".py",
   "mimetype": "text/x-python",
   "name": "python",
   "nbconvert_exporter": "python",
   "pygments_lexer": "ipython3",
   "version": "3.12.6"
  }
 },
 "nbformat": 4,
 "nbformat_minor": 5
}
