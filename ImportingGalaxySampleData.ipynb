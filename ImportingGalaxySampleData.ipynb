{
 "cells": [
  {
   "cell_type": "code",
   "execution_count": null,
   "id": "210c2b33",
   "metadata": {},
   "outputs": [
    {
     "data": {
      "text/plain": [
       "array([(b'9037-9102', [[  182.83229251,   147.42658969,    74.2727215 ,   -13.03751716,   -76.4261688 ,   -94.67944969,   -71.1431447 ,   -24.64167562,    23.06109832,    56.09523554,    67.87236796,    60.17350511,    39.98022203,    15.87559964,    -4.81014797,   -17.61144339], [ 2916.23351036,  -728.19383106, -1183.55879542,  -459.91437779,   142.4946792 ,   295.61076416,   142.03224506,   -82.3790747 ,  -218.8743659 ,  -218.41507821,  -110.97383489,    39.76668267,   172.48700889,   247.90542839,   253.73510037,   199.98649444]], [[    0.        ,     0.        ,     0.        ,     0.        ,     0.        ,     0.        ,     0.        ,     0.        ,     0.        ,     0.        ,     0.        ,     0.        ,     0.        ,     0.        ,     0.        ,     0.        ], [-1076.21003873,   609.9715231 ,   654.61978252,   157.08557936,  -212.78115147,  -302.11972347,  -202.01785687,   -48.589205  ,    65.60164286,   107.89219714,    88.99839892,    39.04040546,   -11.53388902,   -42.45883275,   -46.50566607,   -27.32420094]], 0.68689463, 16., 5.00779696),\n",
       "       (b'', [[    0.        ,     0.        ,     0.        ,     0.        ,     0.        ,     0.        ,     0.        ,     0.        ,     0.        ,     0.        ,     0.        ,     0.        ,     0.        ,     0.        ,     0.        ,     0.        ], [    0.        ,     0.        ,     0.        ,     0.        ,     0.        ,     0.        ,     0.        ,     0.        ,     0.        ,     0.        ,     0.        ,     0.        ,     0.        ,     0.        ,     0.        ,     0.        ]], [[    0.        ,     0.        ,     0.        ,     0.        ,     0.        ,     0.        ,     0.        ,     0.        ,     0.        ,     0.        ,     0.        ,     0.        ,     0.        ,     0.        ,     0.        ,     0.        ], [    0.        ,     0.        ,     0.        ,     0.        ,     0.        ,     0.        ,     0.        ,     0.        ,     0.        ,     0.        ,     0.        ,     0.        ,     0.        ,     0.        ,     0.        ,     0.        ]], 0.        ,  0., 0.        )],\n",
       "      dtype=[('id', 'S12'), ('coscoefs', '<f8', (2, 16)), ('sincoefs', '<f8', (2, 16)), ('inclination', '<f8'), ('nmax', '<f8'), ('rscl', '<f8')])"
      ]
     },
     "execution_count": 1,
     "metadata": {},
     "output_type": "execute_result"
    }
   ],
   "source": [
    "import matplotlib.pyplot as plt\n",
    "import matplotlib.cm as cm\n",
    "import numpy as np\n",
    "\n",
    "np.load('expansion_data_10517-12701.npy', allow_pickle=True)[()]\n",
    "np.load('expansion_data_7960-3701.npy', allow_pickle=True)[()]\n",
    "np.load('expansion_data_12070-9102.npy', allow_pickle=True)[()]\n",
    "np.load('expansion_data_7960-12701.npy', allow_pickle=True)[()]\n",
    "np.load('expansion_data_7960-12703.npy', allow_pickle=True)[()]\n",
    "np.load('expansion_data_7960-12704.npy', allow_pickle=True)[()]\n",
    "np.load('expansion_data_7960-12705.npy', allow_pickle=True)[()]\n",
    "np.load('expansion_data_8253-6102.npy', allow_pickle=True)[()]\n",
    "np.load('expansion_data_8600-6104.npy', allow_pickle=True)[()]\n",
    "np.load('expansion_data_8947-12704.npy', allow_pickle=True)[()]\n",
    "np.load('expansion_data_8992-6101.npy', allow_pickle=True)[()]\n",
    "np.load('expansion_data_8992-6103.npy', allow_pickle=True)[()]\n",
    "np.load('expansion_data_8994-9101.npy', allow_pickle=True)[()]\n",
    "np.load('expansion_data_9037-12701.npy', allow_pickle=True)[()]\n",
    "np.load('expansion_data_9037-9102.npy', allow_pickle=True)[()]\n",
    "\n",
    "\n",
    "\n",
    "              "
   ]
  }
 ],
 "metadata": {
  "kernelspec": {
   "display_name": "Python 3",
   "language": "python",
   "name": "python3"
  },
  "language_info": {
   "codemirror_mode": {
    "name": "ipython",
    "version": 3
   },
   "file_extension": ".py",
   "mimetype": "text/x-python",
   "name": "python",
   "nbconvert_exporter": "python",
   "pygments_lexer": "ipython3",
   "version": "3.12.6"
  }
 },
 "nbformat": 4,
 "nbformat_minor": 5
}
